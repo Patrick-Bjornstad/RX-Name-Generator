{
 "cells": [
  {
   "cell_type": "code",
   "execution_count": 1,
   "metadata": {},
   "outputs": [],
   "source": [
    "import json\n",
    "import string"
   ]
  },
  {
   "cell_type": "markdown",
   "metadata": {},
   "source": [
    "First combine the lists of raw names from each website scraped with BeautifulSoup:"
   ]
  },
  {
   "cell_type": "code",
   "execution_count": 2,
   "metadata": {},
   "outputs": [
    {
     "data": {
      "text/plain": [
       "9332"
      ]
     },
     "execution_count": 2,
     "metadata": {},
     "output_type": "execute_result"
    }
   ],
   "source": [
    "names = []\n",
    "for rx_site in ['assist', 'list']:\n",
    "    with open(f'raw/names_rx{rx_site}.json', 'r') as f:\n",
    "        names += list(json.load(f))\n",
    "len(names)"
   ]
  },
  {
   "cell_type": "markdown",
   "metadata": {},
   "source": [
    "9332 total names. Looking at the contents of the json files there are clearly some duplicates especially when the names involve two words. Generally anything beyond the first word isn't necessarily relevant to the original brand name itself. \n",
    "\n",
    "The following saves only the first word for names and removes duplicates. It also makes names all lowercase:"
   ]
  },
  {
   "cell_type": "code",
   "execution_count": 3,
   "metadata": {},
   "outputs": [
    {
     "data": {
      "text/plain": [
       "3704"
      ]
     },
     "execution_count": 3,
     "metadata": {},
     "output_type": "execute_result"
    }
   ],
   "source": [
    "def clean_name(name_str):\n",
    "    name_str = name_str.split(' ')[0]\n",
    "    name_str = name_str.lower()\n",
    "    return name_str\n",
    "\n",
    "names_clean = list(map(clean_name, names))  # apply the element-wise function\n",
    "names_clean = list(set(names_clean))        # converting to a set and back to a list will remove duplicates\n",
    "len(names_clean)"
   ]
  },
  {
   "cell_type": "markdown",
   "metadata": {},
   "source": [
    "After this step only 3704 names remain. Further filtering may be unwise at this point since we want a sufficiently large dataset. \n",
    "\n",
    "The following checks which characters appear in the names other than from the standard English alphabet, to see if there are any special characters:"
   ]
  },
  {
   "cell_type": "code",
   "execution_count": 4,
   "metadata": {},
   "outputs": [
    {
     "data": {
      "text/plain": [
       "['-', '0', '\\t', '6', '7', '4', 'é', '.', '1', '3', '/', '5', '2', '8', ',']"
      ]
     },
     "execution_count": 4,
     "metadata": {},
     "output_type": "execute_result"
    }
   ],
   "source": [
    "names_str_long = ''.join(names_clean)\n",
    "chars = list(\n",
    "    set(names_str_long).difference(\n",
    "        set(string.ascii_lowercase)\n",
    "    )\n",
    ")\n",
    "chars"
   ]
  },
  {
   "cell_type": "markdown",
   "metadata": {},
   "source": [
    "Let's look at these suspect names:"
   ]
  },
  {
   "cell_type": "code",
   "execution_count": 5,
   "metadata": {},
   "outputs": [
    {
     "name": "stdout",
     "output_type": "stream",
     "text": [
      "Words with \"-\":\n",
      "['tri-sprintec', 'propimex-2', 'trivora-28', 'kenalog-40', 'micro-k', 'monoclate-p', 'dritho-scalp', 'synvisc-one', 'tyrex-2', 'platinol-aq', 'rimso-50', 'md-gastroview', 'oxsoralen-ultra', 'klor-con', 'podocon-25', 'depo-provera', 'an-sulfur', 'gavilyte-h', 'derma-smoothe/fs', 'yf-vax', 'je-vax', 'zembrace-symtouch', 'm-m-r', 'timoptic-xe', 'phenex-1', 'alphagan-p', 'slow-k', 'hominex-1', 'epivir-hbv', 'aci-jel', 'gavilyte-c', 'autoplex-t', 'ak-fluor', 'slo-phyllin', 'neo-fradin', 'monistat-derm', 'cnj-016', '8-mop', 'm-r-vax', 'ic-green', 'np-thyroid', 'neo-synephrine', 'vagistat-1', 'lac-hydrin', 'proplex-t', 'tyrex-1', 'clarinex-d', 'dyna-hex', 'glutarex-2', 'nabi-hb', 'ultra-technekow', 'center-al', 'propimex-1', 'tuxarin-er', 'omeclamox-pak', 'hi-cal', 'ak-pentolate', 'derma-smoothe', 'olux-e', 'phenex-2', 'depo-medrol', 'i-valex-2', 'nor-qd', 'coly-mycin', 'cytra-k', 'alka-seltzer', 'vira-a', 'k-tab', 'k-lor', 'gel-one', 'allegra-d', 'retin-a', 'paxil-cr', 'hydro-q', 'pred-g', 'gavilyte-g', 'levo-t', 'engerix-b', 'cardiogen-82', 'hemofil-m', 'i-valex-1', 'tri-linyah', 'a-methapred', 'phenergan-codeine', 'qmiiz-odt', 'dilaudid-hp', 'depo-subq', 'gamunex-c', 'perlane-l', 'ms-contin', 'theo-24', 'covera-hs', 'thrombin-jmi', 'ketonex-1', 'k-phos', 'adipex-p', 'wp-thyroid', 'poly-pred', 'isovue-m', 'ketonex-2', 'hep-lock', 'depo-testosterone', 'gonal-f', 'beconase-aq', 'darvocet-n', 'glofil-125', 'mono-vacc', 'gyne-lotrimin', 'md-76r', 'chlor-trimeton', 'neosporin-gu', 'neotrace-4', 'zyrtec-d', 'ca-dtpa', 'ruby-fill', 'signifor-lar', 'tri-luma', 'melquin-3', 'r-gene', 'ery-tab', 'terra-cortril', 'urocit-k', 'hominex-2', 'gavilyte-n', 'flo-pred', 'nitro-dur', 'ortho-novum', 'zn-dtpa', 'peg-intron', 'tofranil-pm', 'lumi-sporyn', 'low-ogestrel', 'plasma-lyte', 'thyro-tabs', 'restylane-l', 'cis-sulfur', 'ortho-cept', 'auvi-q', 'tirosint-sol', 'entex-t', 'tev-tropin', 'cyclinex-1', 'humate-p', 'ana-kit', 'nature-throid', 'roferon-a', 'regen-cov', 'e-z-hd', 'mono-linyah', 'miochol-e', 'tylenol-codeine', 'niferex-150', 'neo-synalar', 'dtic-dome', 'nordette-28', 'anadrol-50', 'cyclinex-2', 'lo-zumandimine', 'halog-e', 'ez-disk', 'glyrx-pf', 'nora-be', 'glutarex-1', 'depo-estradiol', 'gelsyn-3', 'vivelle-dot', 'mdp-25', 'catapres-tts', 'readi-cat', 'poly-vi-flor']\n",
      "--------\n",
      "Words with \"0\":\n",
      "['kenalog-40', 'rimso-50', 'acam2000', 'cnj-016', 'niferex-150', 'anadrol-50']\n",
      "--------\n",
      "Words with \"\t\":\n",
      "['voraxaze\\t']\n",
      "--------\n",
      "Words with \"6\":\n",
      "['cnj-016', 'md-76r']\n",
      "--------\n",
      "Words with \"7\":\n",
      "['md-76r']\n",
      "--------\n",
      "Words with \"4\":\n",
      "['kenalog-40', 'theo-24', 'neotrace-4']\n",
      "--------\n",
      "Words with \"é\":\n",
      "['juvéderm']\n",
      "--------\n",
      "Words with \".\":\n",
      "['d.', 'h.p.', 'e.e.s.']\n",
      "--------\n",
      "Words with \"1\":\n",
      "['phenex-1', 'hominex-1', 'cnj-016', 'vagistat-1', 'tyrex-1', 'propimex-1', 'i-valex-1', 'ketonex-1', 'glofil-125', 'cyclinex-1', 'niferex-150', 'glutarex-1', 'b12']\n",
      "--------\n",
      "Words with \"3\":\n",
      "['melquin-3', 'gelsyn-3']\n",
      "--------\n",
      "Words with \"/\":\n",
      "['derma-smoothe/fs']\n",
      "--------\n",
      "Words with \"5\":\n",
      "['rimso-50', 'podocon-25', 'glofil-125', 'niferex-150', 'anadrol-50', 'mdp-25']\n",
      "--------\n",
      "Words with \"2\":\n",
      "['propimex-2', 'trivora-28', 'tyrex-2', 'podocon-25', 'acam2000', 'glutarex-2', 'phenex-2', 'i-valex-2', 'cardiogen-82', 'theo-24', 'ketonex-2', 'glofil-125', 'hominex-2', 'nordette-28', 'cyclinex-2', 'mdp-25', 'b12']\n",
      "--------\n",
      "Words with \"8\":\n",
      "['trivora-28', '8-mop', 'cardiogen-82', 'nordette-28']\n",
      "--------\n",
      "Words with \",\":\n",
      "['naprosyn,', 'glucophage,', 'prempro,', 'aerobid,', 'biaxin,']\n",
      "--------\n"
     ]
    }
   ],
   "source": [
    "for char in chars:\n",
    "    print(f'Words with \"{char}\":')\n",
    "    print([name for name in names_clean if char in name])\n",
    "    print('--------')"
   ]
  },
  {
   "cell_type": "markdown",
   "metadata": {},
   "source": [
    "It seems more duplicates need be removed since the hyphen often acts as an alternative for a space when adding descriptors to the name. To try to best account for the inconcistency of format of the hyphenated names, since sometimes the descriptor tags come before (e.g. `tri-sprintec`) or after (e.g. `neotrace-4`) the presumed drug name, we will assume that the actual drug name in a sequence of hyphenated strings is the largest substring in the sequence.\n",
    "\n",
    "So, in the previous examples, we would extract the names `sprintec` and `neotrace`:"
   ]
  },
  {
   "cell_type": "code",
   "execution_count": 6,
   "metadata": {},
   "outputs": [],
   "source": [
    "def clean_hyphens(name_str):\n",
    "    substrings = name_str.split('-')\n",
    "    longest = max(substrings, key=len)\n",
    "    return longest\n",
    "\n",
    "names_clean = list(map(clean_hyphens, names_clean))     # apply the element-wise function"
   ]
  },
  {
   "cell_type": "markdown",
   "metadata": {},
   "source": [
    "Let's see what outlier words remain with similar code from earlier:"
   ]
  },
  {
   "cell_type": "code",
   "execution_count": 7,
   "metadata": {},
   "outputs": [
    {
     "name": "stdout",
     "output_type": "stream",
     "text": [
      "Words with \"0\": ['acam2000']\n",
      "Words with \"\t\": ['voraxaze\\t']\n",
      "Words with \"6\": ['76r']\n",
      "Words with \"7\": ['76r']\n",
      "Words with \".\": ['d.', 'h.p.', 'e.e.s.']\n",
      "Words with \"é\": ['juvéderm']\n",
      "Words with \"1\": ['b12']\n",
      "Words with \"/\": ['smoothe/fs']\n",
      "Words with \"2\": ['acam2000', 'b12']\n",
      "Words with \",\": ['naprosyn,', 'glucophage,', 'prempro,', 'aerobid,', 'biaxin,']\n"
     ]
    }
   ],
   "source": [
    "names_str_long = ''.join(names_clean)\n",
    "chars = list(\n",
    "    set(names_str_long).difference(\n",
    "        set(string.ascii_lowercase)\n",
    "    )\n",
    ")\n",
    "\n",
    "for char in chars:\n",
    "    print(f'Words with \"{char}\":', [name for name in names_clean if char in name])"
   ]
  },
  {
   "cell_type": "markdown",
   "metadata": {},
   "source": [
    "We make our final cleanup edits based on these words as follows:"
   ]
  },
  {
   "cell_type": "code",
   "execution_count": 12,
   "metadata": {},
   "outputs": [
    {
     "data": {
      "text/plain": [
       "[]"
      ]
     },
     "execution_count": 12,
     "metadata": {},
     "output_type": "execute_result"
    }
   ],
   "source": [
    "def clean_misc(name_str):\n",
    "    name_str = name_str.strip()     # handle the \\t tab character\n",
    "    name_str.replace(',', '')       # remove commas from names\n",
    "    name_str.replace('é', 'e')      # remove accent on the single name\n",
    "\n",
    "names_clean = list(map(clean_hyphens, names_clean))     # apply the element-wise function\n",
    "\n",
    "# Now remove the rest of the remaining outlier words\n",
    "names_str_long = ''.join(names_clean)\n",
    "chars = list(\n",
    "    set(names_str_long).difference(\n",
    "        set(string.ascii_lowercase)\n",
    "    )\n",
    ")\n",
    "remaining_outliers = [name for name in names_clean if char in name]\n",
    "for name in remaining_outliers:\n",
    "    names_clean.remove(name)\n",
    "\n",
    "# Now ensure we've removed them all\n",
    "remaining_outliers = [name for name in names_clean if char in name]\n",
    "remaining_outliers"
   ]
  },
  {
   "cell_type": "markdown",
   "metadata": {},
   "source": [
    "Finally we should probably remove names that are excessively short, and make sure we remove any duplicates generated by the cleaning process:"
   ]
  },
  {
   "cell_type": "code",
   "execution_count": 13,
   "metadata": {},
   "outputs": [
    {
     "data": {
      "text/plain": [
       "3601"
      ]
     },
     "execution_count": 13,
     "metadata": {},
     "output_type": "execute_result"
    }
   ],
   "source": [
    "names_clean = [name for name in names_clean if len(name) > 3]\n",
    "names_final = list(set(names_clean))\n",
    "len(names_final)"
   ]
  },
  {
   "cell_type": "markdown",
   "metadata": {},
   "source": [
    "We have 3601 total names to work with. Let's export them to a final JSON file:"
   ]
  },
  {
   "cell_type": "code",
   "execution_count": 14,
   "metadata": {},
   "outputs": [],
   "source": [
    "with open('names_clean.json', 'w') as f:\n",
    "    json.dump(names_final, f)"
   ]
  }
 ],
 "metadata": {
  "kernelspec": {
   "display_name": "Python 3.9.6 ('.venv': venv)",
   "language": "python",
   "name": "python3"
  },
  "language_info": {
   "codemirror_mode": {
    "name": "ipython",
    "version": 3
   },
   "file_extension": ".py",
   "mimetype": "text/x-python",
   "name": "python",
   "nbconvert_exporter": "python",
   "pygments_lexer": "ipython3",
   "version": "3.9.6"
  },
  "orig_nbformat": 4,
  "vscode": {
   "interpreter": {
    "hash": "adaeca8c19b5cfc3eefe2ab2bb3bcd51a4a0f8192995e4561f02feb302611800"
   }
  }
 },
 "nbformat": 4,
 "nbformat_minor": 2
}
